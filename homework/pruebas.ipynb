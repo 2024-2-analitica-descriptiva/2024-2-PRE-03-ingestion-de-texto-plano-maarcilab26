{
 "cells": [
  {
   "cell_type": "code",
   "execution_count": null,
   "metadata": {},
   "outputs": [],
   "source": [
    "    # Construya y retorne un dataframe de Pandas a partir del archivo\n",
    "    # 'files/input/clusters_report.txt'. Los requierimientos son los siguientes:\n",
    "\n",
    "    # - El dataframe tiene la misma estructura que el archivo original.\n",
    "    # - Los nombres de las columnas deben ser en minusculas, reemplazando los\n",
    "    #   espacios por guiones bajos.\n",
    "    # - Las palabras clave deben estar separadas por coma y con un solo\n",
    "    #   espacio entre palabra y palabra."
   ]
  },
  {
   "cell_type": "code",
   "execution_count": null,
   "metadata": {},
   "outputs": [],
   "source": [
    "# Nota: En este caso, el archivo clusters_report.txt no tiene un separador estándar como coma (,) o \n",
    "# tabulación (\\t), y además tiene encabezados desorganizados y datos espaciados irregularmente. Por eso, \n",
    "# read_csv no funcionará directamente."
   ]
  },
  {
   "cell_type": "code",
   "execution_count": 47,
   "metadata": {},
   "outputs": [
    {
     "name": "stdout",
     "output_type": "stream",
     "text": [
      "    cluster  cantidad_de_palabras_clave porcentaje_de_palabras_clave  \\\n",
      "0         1                         105                       15,9 %   \n",
      "1         2                         102                       15,4 %   \n",
      "2         3                          89                       13,4 %   \n",
      "3         4                          60                        9,1 %   \n",
      "4         5                          52                        7,9 %   \n",
      "5         6                          51                        7,7 %   \n",
      "6         7                          42                        6,3 %   \n",
      "7         8                          38                        5,7 %   \n",
      "8         9                          35                        5,3 %   \n",
      "9        10                          27                        4,1 %   \n",
      "10       11                          22                        3,3 %   \n",
      "11       12                          22                        3,3 %   \n",
      "12       13                          17                        2,6 %   \n",
      "\n",
      "                           principales_palabras_clave  \n",
      "0   maximum power point tracking, fuzzy-logic base...  \n",
      "1   support vector machine, long short-term memory...  \n",
      "2   smart grid, wind power, reinforcement learning...  \n",
      "3   wind turbine, fault diagnosis, biodiesel, fail...  \n",
      "4   electric vehicle, lithium-ion batteries, state...  \n",
      "5   particle swarm optimization, distribute genera...  \n",
      "6   multi-objective optimization, energy storage, ...  \n",
      "7   genetic algorithm, demand-side management, ene...  \n",
      "8   anfis, global solar irradiance, solar irradian...  \n",
      "9   micro grid, multi-agent systems, distributed e...  \n",
      "10  hydrogen, biochar, biomass, biogas, microbial ...  \n",
      "11  state of charge (soc) estimation, radial basis...  \n",
      "12  pem fuel cell, solid-oxide fuel cell, deep-bel...  \n"
     ]
    }
   ],
   "source": [
    "import pandas as pd\n",
    "with open(\"../files/input/clusters_report.txt\", \"r\", encoding='utf-8') as file:\n",
    "    lines = file.readlines()\n",
    "#lines\n",
    "\n",
    "# contenido = lines[4:]\n",
    "\n",
    "# contenido = [line.strip() for line in contenido]  # Aplicar .strip() a cada línea. Este no se aplica en listas\n",
    "# contenido\n",
    "\n",
    "# Procesar las líneas para eliminar encabezados y líneas separadoras\n",
    "data_lines = lines[4:]  # Ignorar las primeras 4 líneas (encabezado y separador)\n",
    "\n",
    "# Lista para almacenar los datos\n",
    "data = []\n",
    "current_cluster = None\n",
    "\n",
    "for line in data_lines:\n",
    "    if line.strip():  # Ignorar líneas vacías\n",
    "        parts = line.split()\n",
    "        \n",
    "        # Si la línea comienza con un número, es un nuevo clúster\n",
    "        if parts[0].isdigit():\n",
    "            if current_cluster:\n",
    "                data.append(current_cluster)  # Guardar el clúster anterior\n",
    "            \n",
    "            # Combinar el porcentaje (posiciones 2 y 3)\n",
    "            porcentaje = f\"{parts[2]} {parts[3]}\"\n",
    "            \n",
    "            # Inicializar un nuevo clúster\n",
    "            current_cluster = {\n",
    "                'cluster': int(parts[0]),\n",
    "                'cantidad_de_palabras_clave': int(parts[1]),\n",
    "                'porcentaje_de_palabras_clave': porcentaje,\n",
    "                'principales_palabras_clave': ' '.join(parts[4:])  # Resto son palabras clave\n",
    "            }\n",
    "        else:\n",
    "            # Continuar palabras clave del clúster actual\n",
    "            current_cluster['principales_palabras_clave'] += ' ' + ' '.join(parts)\n",
    "\n",
    "# Agregar el último clúster\n",
    "if current_cluster:\n",
    "    data.append(current_cluster)\n",
    "\n",
    "# Crear un DataFrame\n",
    "df = pd.DataFrame(data)\n",
    "\n",
    "# Limpiar nombres de las columnas\n",
    "df.columns = df.columns.str.lower().str.replace(' ', '_')\n",
    "\n",
    "# Ajustar formato de las palabras clave\n",
    "df['principales_palabras_clave'] = (\n",
    "    df['principales_palabras_clave']\n",
    "    .str.replace(r'\\s+', ' ', regex=True)  # Espacios múltiples a un solo espacio\n",
    "    .str.replace(', ', ', ').str.strip()  # Espaciado correcto en comas\n",
    ")\n",
    "\n",
    "# Mostrar el DataFrame\n",
    "print(df)\n",
    "\n"
   ]
  },
  {
   "cell_type": "code",
   "execution_count": 49,
   "metadata": {},
   "outputs": [
    {
     "data": {
      "text/plain": [
       "0     maximum power point tracking, fuzzy-logic base...\n",
       "1     support vector machine, long short-term memory...\n",
       "2     smart grid, wind power, reinforcement learning...\n",
       "3     wind turbine, fault diagnosis, biodiesel, fail...\n",
       "4     electric vehicle, lithium-ion batteries, state...\n",
       "5     particle swarm optimization, distribute genera...\n",
       "6     multi-objective optimization, energy storage, ...\n",
       "7     genetic algorithm, demand-side management, ene...\n",
       "8     anfis, global solar irradiance, solar irradian...\n",
       "9     micro grid, multi-agent systems, distributed e...\n",
       "10    hydrogen, biochar, biomass, biogas, microbial ...\n",
       "11    state of charge (soc) estimation, radial basis...\n",
       "12    pem fuel cell, solid-oxide fuel cell, deep-bel...\n",
       "Name: principales_palabras_clave, dtype: object"
      ]
     },
     "execution_count": 49,
     "metadata": {},
     "output_type": "execute_result"
    }
   ],
   "source": [
    "df[\"principales_palabras_clave\"].replace('.','')\n",
    "df[\"principales_palabras_clave\"]\n",
    "\n"
   ]
  },
  {
   "cell_type": "code",
   "execution_count": 50,
   "metadata": {},
   "outputs": [],
   "source": [
    "df['principales_palabras_clave'] = (\n",
    "    df['principales_palabras_clave']\n",
    "    .str.replace(r'\\s+', ' ', regex=True)  # Espacios múltiples a un solo espacio\n",
    "    .str.replace(', ', ', ').str.strip()  # Espaciado correcto en comas\n",
    "    .str.replace(\".\" , \"\")\n",
    ")"
   ]
  }
 ],
 "metadata": {
  "kernelspec": {
   "display_name": ".venv",
   "language": "python",
   "name": "python3"
  },
  "language_info": {
   "codemirror_mode": {
    "name": "ipython",
    "version": 3
   },
   "file_extension": ".py",
   "mimetype": "text/x-python",
   "name": "python",
   "nbconvert_exporter": "python",
   "pygments_lexer": "ipython3",
   "version": "3.10.9"
  }
 },
 "nbformat": 4,
 "nbformat_minor": 2
}
